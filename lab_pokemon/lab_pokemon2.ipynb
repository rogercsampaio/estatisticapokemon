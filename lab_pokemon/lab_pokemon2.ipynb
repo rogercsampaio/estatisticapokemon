{
  "cells": [
    {
      "cell_type": "code",
      "execution_count": 9,
      "metadata": {
        "gather": {
          "logged": 1725107504929
        },
        "jupyter": {
          "outputs_hidden": false,
          "source_hidden": false
        },
        "nteract": {
          "transient": {
            "deleting": false
          }
        }
      },
      "outputs": [],
      "source": [
        "# Importação de pacotes e bibliotecas\n",
        "import pandas as pd\n",
        "import matplotlib.pyplot as plt\n",
        "import statistics as st\n",
        "import math as mt"
      ]
    },
    {
      "cell_type": "code",
      "execution_count": 2,
      "metadata": {
        "gather": {
          "logged": 1725107505120
        }
      },
      "outputs": [
        {
          "name": "stdout",
          "output_type": "stream",
          "text": [
            "Base de dados carregada com sucesso. Dimensões 800 linhas e 13 colunas\n",
            "Nome de colunas Index(['#', 'Name', 'Type 1', 'Type 2', 'Total', 'HP', 'Attack', 'Defense',\n",
            "       'Sp. Atk', 'Sp. Def', 'Speed', 'Generation', 'Legendary'],\n",
            "      dtype='object')\n"
          ]
        }
      ],
      "source": [
        "# Carregando a base de dados\n",
        "pokemons = pd.read_csv(\"Pokemon.csv\")\n",
        "print(f\"Base de dados carregada com sucesso. Dimensões {pokemons.shape[0]} linhas e {pokemons.shape[1]} colunas\")\n",
        "print(f\"Nome de colunas {pokemons.columns}\")"
      ]
    },
    {
      "cell_type": "code",
      "execution_count": 3,
      "metadata": {
        "gather": {
          "logged": 1725107505438
        },
        "jupyter": {
          "outputs_hidden": false,
          "source_hidden": false
        },
        "nteract": {
          "transient": {
            "deleting": false
          }
        }
      },
      "outputs": [
        {
          "data": {
            "text/html": [
              "<div>\n",
              "<style scoped>\n",
              "    .dataframe tbody tr th:only-of-type {\n",
              "        vertical-align: middle;\n",
              "    }\n",
              "\n",
              "    .dataframe tbody tr th {\n",
              "        vertical-align: top;\n",
              "    }\n",
              "\n",
              "    .dataframe thead th {\n",
              "        text-align: right;\n",
              "    }\n",
              "</style>\n",
              "<table border=\"1\" class=\"dataframe\">\n",
              "  <thead>\n",
              "    <tr style=\"text-align: right;\">\n",
              "      <th></th>\n",
              "      <th>Name</th>\n",
              "      <th>HP</th>\n",
              "    </tr>\n",
              "  </thead>\n",
              "  <tbody>\n",
              "    <tr>\n",
              "      <th>0</th>\n",
              "      <td>Bulbasaur</td>\n",
              "      <td>45</td>\n",
              "    </tr>\n",
              "    <tr>\n",
              "      <th>1</th>\n",
              "      <td>Ivysaur</td>\n",
              "      <td>60</td>\n",
              "    </tr>\n",
              "    <tr>\n",
              "      <th>2</th>\n",
              "      <td>Venusaur</td>\n",
              "      <td>80</td>\n",
              "    </tr>\n",
              "  </tbody>\n",
              "</table>\n",
              "</div>"
            ],
            "text/plain": [
              "        Name  HP\n",
              "0  Bulbasaur  45\n",
              "1    Ivysaur  60\n",
              "2   Venusaur  80"
            ]
          },
          "execution_count": 3,
          "metadata": {},
          "output_type": "execute_result"
        }
      ],
      "source": [
        "# Visualizando o nome e HP do 3 primeiros pókemons\n",
        "pokemons[['Name','HP']].head(3)"
      ]
    },
    {
      "cell_type": "markdown",
      "metadata": {},
      "source": [
        "Amplitude"
      ]
    },
    {
      "cell_type": "code",
      "execution_count": 4,
      "metadata": {},
      "outputs": [
        {
          "name": "stdout",
          "output_type": "stream",
          "text": [
            "Valor mínimo é: 1\n",
            "Valor máximo é: 255\n",
            "Opção 1 A amplitude de HPs é: 254\n",
            "Opção 2 A amplitude de HPs é: 254\n"
          ]
        }
      ],
      "source": [
        "# Cálculo da amplitude\n",
        "valor_min_hp = min(pokemons['HP'])\n",
        "valor_max_hp = max(pokemons['HP'])\n",
        "print(f\"Valor mínimo é: {valor_min_hp }\") \n",
        "print(f\"Valor máximo é: {valor_max_hp }\") \n",
        "print(f\"Opção 1 A amplitude de HPs é: {valor_max_hp - valor_min_hp}\") \n",
        "print(f\"Opção 2 A amplitude de HPs é: {max(pokemons['HP'])- min(pokemons['HP'])}\") "
      ]
    },
    {
      "cell_type": "code",
      "execution_count": 5,
      "metadata": {},
      "outputs": [
        {
          "data": {
            "image/png": "[encoded data removed]",
            "text/plain": [
              "<Figure size 640x480 with 1 Axes>"
            ]
          },
          "metadata": {},
          "output_type": "display_data"
        }
      ],
      "source": [
        "plt.hist(pokemons['HP']) \n",
        "plt.xlabel('Valores - HP')\n",
        "plt.ylabel('Frequência(Contagem)')\n",
        "plt.title('Histograma')\n",
        "plt.grid(True)"
      ]
    },
    {
      "cell_type": "markdown",
      "metadata": {},
      "source": [
        "Variância"
      ]
    },
    {
      "cell_type": "code",
      "execution_count": 6,
      "metadata": {},
      "outputs": [
        {
          "name": "stdout",
          "output_type": "stream",
          "text": [
            "Qtde de elementos  3\n",
            "HPS são:\n",
            "x1 45\n",
            "x2 60\n",
            "x3 80\n",
            "A média de 3 HPs é: 61.666666666666664\n",
            "A variância de 3 HPs é: 205.55555555555557\n"
          ]
        }
      ],
      "source": [
        "pokemons_3_primeiros = pokemons.head(3)\n",
        "media_3_primeiros = st.mean(pokemons_3_primeiros['HP'])\n",
        "print(\"Qtde de elementos \",len(pokemons_3_primeiros))\n",
        "print(f\"HPS são:\")\n",
        "n = 1\n",
        "for hp in pokemons_3_primeiros['HP']:\n",
        "    print('x' + str(n) + ' ' + str(hp)) \n",
        "    n= n+1    \n",
        "print(f\"A média de 3 HPs é: {media_3_primeiros}\")  \n",
        "print(f\"A variância de 3 HPs é: {st.pvariance(pokemons_3_primeiros['HP'])}\")  \n"
      ]
    },
    {
      "cell_type": "markdown",
      "metadata": {},
      "source": [
        "Desvio Padrão"
      ]
    },
    {
      "cell_type": "code",
      "execution_count": 24,
      "metadata": {},
      "outputs": [
        {
          "name": "stdout",
          "output_type": "stream",
          "text": [
            "x1 45\n",
            "x2 60\n",
            "x3 80\n",
            "A média de 3 HPs é: 61.666666666666664\n",
            "A variância de 3 HPs é: 205.55555555555557\n",
            "O desvio padrão 3 HPs é: 14.337208778404378\n"
          ]
        }
      ],
      "source": [
        "n = 1\n",
        "for hp in pokemons_3_primeiros['HP']:\n",
        "    print('x' + str(n) + ' ' + str(hp)) \n",
        "    n= n+1    \n",
        "media_3_primeiros = st.mean(pokemons_3_primeiros['HP'])\n",
        "print(f\"A média de 3 HPs é: {media_3_primeiros}\") \n",
        "print(f\"A variância de 3 HPs é: {st.pvariance(pokemons_3_primeiros['HP'])}\")  \n",
        "print(f\"O desvio padrão 3 HPs é: {mt.sqrt(st.pvariance(pokemons_3_primeiros['HP']))}\")"
      ]
    },
    {
      "cell_type": "code",
      "execution_count": 25,
      "metadata": {},
      "outputs": [
        {
          "data": {
            "text/html": [
              "<div>\n",
              "<style scoped>\n",
              "    .dataframe tbody tr th:only-of-type {\n",
              "        vertical-align: middle;\n",
              "    }\n",
              "\n",
              "    .dataframe tbody tr th {\n",
              "        vertical-align: top;\n",
              "    }\n",
              "\n",
              "    .dataframe thead th {\n",
              "        text-align: right;\n",
              "    }\n",
              "</style>\n",
              "<table border=\"1\" class=\"dataframe\">\n",
              "  <thead>\n",
              "    <tr style=\"text-align: right;\">\n",
              "      <th></th>\n",
              "      <th>Name</th>\n",
              "      <th>HP</th>\n",
              "    </tr>\n",
              "  </thead>\n",
              "  <tbody>\n",
              "    <tr>\n",
              "      <th>0</th>\n",
              "      <td>Bulbasaur</td>\n",
              "      <td>45</td>\n",
              "    </tr>\n",
              "    <tr>\n",
              "      <th>1</th>\n",
              "      <td>Ivysaur</td>\n",
              "      <td>60</td>\n",
              "    </tr>\n",
              "    <tr>\n",
              "      <th>2</th>\n",
              "      <td>Venusaur</td>\n",
              "      <td>80</td>\n",
              "    </tr>\n",
              "  </tbody>\n",
              "</table>\n",
              "</div>"
            ],
            "text/plain": [
              "        Name  HP\n",
              "0  Bulbasaur  45\n",
              "1    Ivysaur  60\n",
              "2   Venusaur  80"
            ]
          },
          "execution_count": 25,
          "metadata": {},
          "output_type": "execute_result"
        }
      ],
      "source": [
        "pokemons_3_primeiros[['Name','HP']]"
      ]
    },
    {
      "cell_type": "markdown",
      "metadata": {},
      "source": [
        "Coeficiente de Variação"
      ]
    },
    {
      "cell_type": "code",
      "execution_count": 30,
      "metadata": {},
      "outputs": [
        {
          "name": "stdout",
          "output_type": "stream",
          "text": [
            "x1 45\n",
            "x2 60\n",
            "x3 80\n",
            "A média de 3 HPs é: 61.666666666666664\n",
            "A variância de 3 HPs é: 205.55555555555557\n",
            "O desvio padrão 3 HPs é: 14.337208778404378\n",
            "O coeficiente de variação 3 HPs é: 23.249527748763857%\n"
          ]
        }
      ],
      "source": [
        "n = 1\n",
        "for hp in pokemons_3_primeiros['HP']:\n",
        "    print('x' + str(n) + ' ' + str(hp)) \n",
        "    n= n+1    \n",
        "media_3_primeiros = st.mean(pokemons_3_primeiros['HP'])\n",
        "print(f\"A média de 3 HPs é: {media_3_primeiros}\") \n",
        "print(f\"A variância de 3 HPs é: {st.pvariance(pokemons_3_primeiros['HP'])}\")  \n",
        "print(f\"O desvio padrão 3 HPs é: {mt.sqrt(st.pvariance(pokemons_3_primeiros['HP']))}\")\n",
        "desvio_padrao = mt.sqrt(st.pvariance(pokemons_3_primeiros['HP']))\n",
        "print(f\"O coeficiente de variação 3 HPs é: {(desvio_padrao/media_3_primeiros) * 100}%\")"
      ]
    },
    {
      "cell_type": "markdown",
      "metadata": {},
      "source": [
        "Coeficiente de Variação - comparando conjunto de dados"
      ]
    },
    {
      "cell_type": "code",
      "execution_count": 34,
      "metadata": {},
      "outputs": [
        {
          "name": "stdout",
          "output_type": "stream",
          "text": [
            "Conjunto de dados criados.\n"
          ]
        }
      ],
      "source": [
        "pokemons_tipo_fogo = pokemons[pokemons['Type 1'] == 'Fire']\n",
        "pokemons_tipo_agua = pokemons[pokemons['Type 1'] == 'Water']\n",
        "print(f\"Conjunto de dados criados.\")"
      ]
    },
    {
      "cell_type": "code",
      "execution_count": 41,
      "metadata": {},
      "outputs": [
        {
          "name": "stdout",
          "output_type": "stream",
          "text": [
            " ============== Estatísticas Tipo Fogo ============== \n",
            "Quantidade de pokemons 52\n",
            "Média 69.90384615384616\n",
            "Desvio Padrão 19.216639039549328\n",
            "Coeficiente de Variação 27.49010261503618\n"
          ]
        }
      ],
      "source": [
        "print(f\" ============== Estatísticas Tipo Fogo ============== \")\n",
        "qt_pokemons_fogo = len(pokemons_tipo_fogo)\n",
        "media_tipo_fogo = st.mean(pokemons_tipo_fogo['HP'])\n",
        "desvio_padrao_tipo_fogo = mt.sqrt(st.pvariance(pokemons_tipo_fogo['HP']))\n",
        "coeficiente_variacao_fogo = (desvio_padrao_tipo_fogo/media_tipo_fogo) * 100\n",
        "print(f\"Quantidade de pokemons {qt_pokemons_fogo}\")\n",
        "print(f\"Média {media_tipo_fogo}\")\n",
        "print(f\"Desvio Padrão {desvio_padrao_tipo_fogo}\")\n",
        "print(f\"Coeficiente de Variação {coeficiente_variacao_fogo}\")"
      ]
    },
    {
      "cell_type": "code",
      "execution_count": 40,
      "metadata": {},
      "outputs": [
        {
          "name": "stdout",
          "output_type": "stream",
          "text": [
            " ============== Estatísticas Tipo Água ============== \n",
            "Quantidade de pokemons 112\n",
            "Média 72.0625\n",
            "Desvio Padrão 27.364040940751842\n",
            "Coeficiente de Variação 37.972650047877664\n"
          ]
        }
      ],
      "source": [
        "print(f\" ============== Estatísticas Tipo Água ============== \")\n",
        "qt_pokemons_agua = len(pokemons_tipo_agua)\n",
        "media_tipo_agua = st.mean(pokemons_tipo_agua['HP'])\n",
        "desvio_padrao_tipo_agua = mt.sqrt(st.pvariance(pokemons_tipo_agua['HP']))\n",
        "coeficiente_variacao_agua = (desvio_padrao_tipo_agua/media_tipo_agua) * 100\n",
        "print(f\"Quantidade de pokemons {qt_pokemons_agua}\")\n",
        "print(f\"Média {media_tipo_agua}\")\n",
        "print(f\"Desvio Padrão {desvio_padrao_tipo_agua}\")\n",
        "print(f\"Coeficiente de Variação {coeficiente_variacao_agua}\")"
      ]
    }
  ],
  "metadata": {
    "kernel_info": {
      "name": "python310-sdkv2"
    },
    "kernelspec": {
      "display_name": "churn",
      "language": "python",
      "name": "python3"
    },
    "language_info": {
      "codemirror_mode": {
        "name": "ipython",
        "version": 3
      },
      "file_extension": ".py",
      "mimetype": "text/x-python",
      "name": "python",
      "nbconvert_exporter": "python",
      "pygments_lexer": "ipython3",
      "version": "3.9.19"
    },
    "microsoft": {
      "host": {
        "AzureML": {
          "notebookHasBeenCompleted": true
        }
      }
    },
    "nteract": {
      "version": "nteract-front-end@1.0.0"
    }
  },
  "nbformat": 4,
  "nbformat_minor": 2
}
