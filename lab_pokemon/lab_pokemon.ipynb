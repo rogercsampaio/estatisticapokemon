{
  "cells": [
    {
      "cell_type": "code",
      "source": [
        "# Importação de pacotes e bibliotecas\n",
        "import pandas as pd\n",
        "import matplotlib.pyplot as plt\n",
        "import statistics as st"
      ],
      "outputs": [],
      "execution_count": 1,
      "metadata": {
        "jupyter": {
          "source_hidden": false,
          "outputs_hidden": false
        },
        "nteract": {
          "transient": {
            "deleting": false
          }
        },
        "gather": {
          "logged": 1725107504929
        }
      }
    },
    {
      "cell_type": "code",
      "source": [
        "# Carregando a base de dados\n",
        "pokemons = pd.read_csv(\"Pokemon.csv\")\n",
        "print(f\"Base de dados carregada com sucesso. Dimensões {pokemons.shape[0]} linhas e {pokemons.shape[1]} colunas\")\n",
        "print(f\"Nome de colunas {pokemons.columns}\")"
      ],
      "outputs": [
        {
          "output_type": "stream",
          "name": "stdout",
          "text": "Base de dados carregada com sucesso. Dimensões 800 linhas e 13 colunas\nNome de colunas Index(['#', 'Name', 'Type 1', 'Type 2', 'Total', 'HP', 'Attack', 'Defense',\n       'Sp. Atk', 'Sp. Def', 'Speed', 'Generation', 'Legendary'],\n      dtype='object')\n"
        }
      ],
      "execution_count": 2,
      "metadata": {
        "gather": {
          "logged": 1725107505120
        }
      }
    },
    {
      "cell_type": "code",
      "source": [
        "# Visualizando o nome e HP do 7 primeiros pókemons\n",
        "pokemons[['Name','HP']].head(7)"
      ],
      "outputs": [
        {
          "output_type": "execute_result",
          "execution_count": 3,
          "data": {
            "text/plain": "                    Name  HP\n0              Bulbasaur  45\n1                Ivysaur  60\n2               Venusaur  80\n3  VenusaurMega Venusaur  80\n4             Charmander  39\n5             Charmeleon  58\n6              Charizard  78",
            "text/html": "<div>\n<style scoped>\n    .dataframe tbody tr th:only-of-type {\n        vertical-align: middle;\n    }\n\n    .dataframe tbody tr th {\n        vertical-align: top;\n    }\n\n    .dataframe thead th {\n        text-align: right;\n    }\n</style>\n<table border=\"1\" class=\"dataframe\">\n  <thead>\n    <tr style=\"text-align: right;\">\n      <th></th>\n      <th>Name</th>\n      <th>HP</th>\n    </tr>\n  </thead>\n  <tbody>\n    <tr>\n      <th>0</th>\n      <td>Bulbasaur</td>\n      <td>45</td>\n    </tr>\n    <tr>\n      <th>1</th>\n      <td>Ivysaur</td>\n      <td>60</td>\n    </tr>\n    <tr>\n      <th>2</th>\n      <td>Venusaur</td>\n      <td>80</td>\n    </tr>\n    <tr>\n      <th>3</th>\n      <td>VenusaurMega Venusaur</td>\n      <td>80</td>\n    </tr>\n    <tr>\n      <th>4</th>\n      <td>Charmander</td>\n      <td>39</td>\n    </tr>\n    <tr>\n      <th>5</th>\n      <td>Charmeleon</td>\n      <td>58</td>\n    </tr>\n    <tr>\n      <th>6</th>\n      <td>Charizard</td>\n      <td>78</td>\n    </tr>\n  </tbody>\n</table>\n</div>"
          },
          "metadata": {}
        }
      ],
      "execution_count": 3,
      "metadata": {
        "jupyter": {
          "source_hidden": false,
          "outputs_hidden": false
        },
        "nteract": {
          "transient": {
            "deleting": false
          }
        },
        "gather": {
          "logged": 1725107505438
        }
      }
    },
    {
      "cell_type": "code",
      "source": [
        "soma_hps = sum(pokemons['HP'])\n",
        "qtde_pokemons = len(pokemons)\n",
        "print(f\"Opção 1 A média de HPs é: {soma_hps/qtde_pokemons}\")  # Cálculo manual \n",
        "print(f\"Opção 2 A média de HPs é: {st.mean(pokemons['HP'])}\") # Cálculo automático\n",
        "print(f\"Opção 3 A média de HPs é: {pokemons['HP'].mean()}\")   # Cálculo automático, aplicável apenas quando o objeto for um DATAFRAME PANDAS"
      ],
      "outputs": [
        {
          "output_type": "stream",
          "name": "stdout",
          "text": "Opção 1 A média de HPs é: 69.25875\nOpção 2 A média de HPs é: 69.25875\nOpção 3 A média de HPs é: 69.25875\n"
        }
      ],
      "execution_count": 4,
      "metadata": {
        "jupyter": {
          "source_hidden": false,
          "outputs_hidden": false
        },
        "nteract": {
          "transient": {
            "deleting": false
          }
        },
        "gather": {
          "logged": 1725107505733
        }
      }
    },
    {
      "cell_type": "code",
      "source": [
        "plt.hist(pokemons['HP']) \n",
        "plt.xlabel('Valores - HP')\n",
        "plt.ylabel('Frequência(Contagem)')\n",
        "plt.title('Histograma')\n",
        "plt.grid(True)"
      ],
      "outputs": [
        {
          "output_type": "display_data",
          "data": {
            "text/plain": "<Figure size 640x480 with 1 Axes>",
            "image/png": "[encoded data removed]"
          },
          "metadata": {}
        }
      ],
      "execution_count": 5,
      "metadata": {
        "jupyter": {
          "source_hidden": false,
          "outputs_hidden": false
        },
        "nteract": {
          "transient": {
            "deleting": false
          }
        },
        "gather": {
          "logged": 1725107505961
        }
      }
    },
    {
      "cell_type": "code",
      "source": [
        "pokemon1 = pd.DataFrame({'Name': 'Mewthree', 'Type 1': 'Psychic', 'Type 2': '', 'Total': 500000, 'HP': 500000,'Attack' : 0, 'Defense' : 0,\n",
        "       'Sp. Atk' : 0, 'Sp. Def' : 0, 'Speed' : 0, 'Generation' : 7, 'Legendary': True}, index=[0])\n",
        "pokemon2 = pd.DataFrame({'Name': 'Mewfour', 'Type 1': 'Psychic', 'Type 2': '', 'Total': 600000, 'HP': 600000,'Attack' : 0, 'Defense' : 0,\n",
        "       'Sp. Atk' : 0, 'Sp. Def' : 0, 'Speed' : 0, 'Generation' : 7, 'Legendary': True}, index=[0])\n",
        "pokemon3 = pd.DataFrame({'Name': 'Mewfive', 'Type 1': 'Psychic', 'Type 2': '', 'Total': 850000, 'HP': 800000,'Attack' : 0, 'Defense' : 0,\n",
        "       'Sp. Atk' : 0, 'Sp. Def' : 0, 'Speed' : 0, 'Generation' : 7, 'Legendary': True}, index=[0])       \n",
        "pokemons_novo = pd.concat([pokemons, pokemon1])\n",
        "pokemons_novo = pd.concat([pokemons_novo, pokemon2])\n",
        "pokemons_novo = pd.concat([pokemons_novo, pokemon3])"
      ],
      "outputs": [],
      "execution_count": 6,
      "metadata": {
        "jupyter": {
          "source_hidden": false,
          "outputs_hidden": false
        },
        "nteract": {
          "transient": {
            "deleting": false
          }
        },
        "gather": {
          "logged": 1725107506293
        }
      }
    },
    {
      "cell_type": "code",
      "source": [
        "print(f\"A média de HPs de antes é: {st.mean(pokemons['HP'])}\") \n",
        "print(f\"A média de HPs de agora é: {st.mean(pokemons_novo['HP'])}\") \n"
      ],
      "outputs": [
        {
          "output_type": "stream",
          "name": "stdout",
          "text": "A média de HPs de antes é: 69.25875\nA média de HPs de agora é: 2435.1270236612704\n"
        }
      ],
      "execution_count": 7,
      "metadata": {
        "jupyter": {
          "source_hidden": false,
          "outputs_hidden": false
        },
        "nteract": {
          "transient": {
            "deleting": false
          }
        },
        "gather": {
          "logged": 1725107506580
        }
      }
    },
    {
      "cell_type": "code",
      "source": [
        "# Considerando os pokemons sem acréscimo dos últimos 3, número \n",
        "pokemons_ordenado1_numero_par = pokemons['HP'].sort_values(ascending = True)\n",
        "pokemons_ordenado1_numero_par = pokemons_ordenado1_numero_par.reset_index()\n",
        "qtde_pokemons = len(pokemons_ordenado1_numero_par)\n",
        "\n",
        "elemento_central1 = qtde_pokemons/2\n",
        "elemento_central2 = qtde_pokemons/2 + 1\n",
        "\n",
        "media_elementos = (elemento_central1 + elemento_central2)/2\n",
        "valor = pokemons_ordenado1_numero_par[pokemons_ordenado1_numero_par.index == int(media_elementos)]['HP'].values[0]\n",
        "valor"
      ],
      "outputs": [
        {
          "output_type": "execute_result",
          "execution_count": 8,
          "data": {
            "text/plain": "65"
          },
          "metadata": {}
        }
      ],
      "execution_count": 8,
      "metadata": {
        "jupyter": {
          "source_hidden": false,
          "outputs_hidden": false
        },
        "nteract": {
          "transient": {
            "deleting": false
          }
        },
        "gather": {
          "logged": 1725107506858
        }
      }
    },
    {
      "cell_type": "code",
      "source": [
        "def calcular_mediana(dataframe,valor_observar):\n",
        "    # 1 - Ordenando e resetando os índices\n",
        "    dataframe_ordenado = dataframe[valor_observar].sort_values(ascending = True)\n",
        "    dataframe_ordenado = dataframe_ordenado.reset_index()\n",
        "    qtde_elementos = len(dataframe_ordenado)\n",
        "    # 2 - Cálculo\n",
        "    if(qtde_elementos % 2 == 0): # ímpar\n",
        "        elemento_central1 = qtde_elementos/2\n",
        "        elemento_central2 = qtde_elementos/2 + 1\n",
        "        media_elementos = (elemento_central1 + elemento_central2)/2\n",
        "        valor = dataframe_ordenado[dataframe_ordenado.index == int(media_elementos)][valor_observar].values[0]\n",
        "        return valor\n",
        "    else: # par\n",
        "        posicao_mediana = (qtde_elementos+1)/2\n",
        "        valor = dataframe_ordenado[dataframe_ordenado.index == posicao_mediana][valor_observar].values[0]\n",
        "        return valor"
      ],
      "outputs": [],
      "execution_count": 9,
      "metadata": {
        "jupyter": {
          "source_hidden": false,
          "outputs_hidden": false
        },
        "nteract": {
          "transient": {
            "deleting": false
          }
        },
        "gather": {
          "logged": 1725107507118
        }
      }
    },
    {
      "cell_type": "code",
      "source": [
        "print(f\"Quantidade de pokemons PAR {len(pokemons)} a MEDIANA é {calcular_mediana(pokemons,'HP')}\")\n",
        "print(f\"Quantidade de pokemons ÍMPAR {len(pokemons_novo)} a MEDIANA é {calcular_mediana(pokemons_novo,'HP')}\")"
      ],
      "outputs": [
        {
          "output_type": "stream",
          "name": "stdout",
          "text": "Quantidade de pokemons PAR 800 a MEDIANA é 65\nQuantidade de pokemons ÍMPAR 803 a MEDIANA é 65\n"
        }
      ],
      "execution_count": 10,
      "metadata": {
        "jupyter": {
          "source_hidden": false,
          "outputs_hidden": false
        },
        "nteract": {
          "transient": {
            "deleting": false
          }
        },
        "gather": {
          "logged": 1725107507501
        }
      }
    },
    {
      "cell_type": "code",
      "source": [
        "# Cálculo automático\n",
        "# Utilizando o comando abaixo, não precisamos ordenar, visto que é ordenado internamente \n",
        "print(f\"Quantidade de pokemons PAR {len(pokemons)} a MEDIANA é {st.median(pokemons['HP'])}\")\n",
        "print(f\"Quantidade de pokemons ÍMPAR {len(pokemons_novo)} a MEDIANA é {st.median(pokemons_novo['HP'])}\")"
      ],
      "outputs": [
        {
          "output_type": "stream",
          "name": "stdout",
          "text": "Quantidade de pokemons PAR 800 a MEDIANA é 65.0\nQuantidade de pokemons ÍMPAR 803 a MEDIANA é 65\n"
        }
      ],
      "execution_count": 11,
      "metadata": {
        "jupyter": {
          "source_hidden": false,
          "outputs_hidden": false
        },
        "nteract": {
          "transient": {
            "deleting": false
          }
        },
        "gather": {
          "logged": 1725107507868
        }
      }
    },
    {
      "cell_type": "code",
      "source": [
        "print(f\"POKEMONS sem os 3 SUPERPODEROSOS a MÉDIA é: {st.mean(pokemons['HP'])}\")\n",
        "print(f\"POKEMONS sem os 3 SUPERPODEROSOS a MEDIANA é: {st.median(pokemons['HP'])}\")"
      ],
      "outputs": [
        {
          "output_type": "stream",
          "name": "stdout",
          "text": "POKEMONS sem os 3 SUPERPODEROSOS a MÉDIA é: 69.25875\nPOKEMONS sem os 3 SUPERPODEROSOS a MEDIANA é: 65.0\n"
        }
      ],
      "execution_count": 12,
      "metadata": {
        "jupyter": {
          "source_hidden": false,
          "outputs_hidden": false
        },
        "nteract": {
          "transient": {
            "deleting": false
          }
        },
        "gather": {
          "logged": 1725107508194
        }
      }
    },
    {
      "cell_type": "code",
      "source": [
        "# Cálculo manual\n",
        "pokemons_ordenado = pd.DataFrame(pokemons['HP'].value_counts().sort_values(ascending= False)) # Somente funciona para dataframes\n",
        "valor_mais_frequente = max(pokemons_ordenado['count']) # valor mais frequente\n",
        "# Cálculo automático\n",
        "print(f\"POKEMONS - OPÇÃO 1 A MODA DE HP é: {pokemons_ordenado[pokemons_ordenado['count'] == valor_mais_frequente].index.values[0]}\")\n",
        "print(f\"POKEMONS - OPÇÃO 2 A MODA DE HP é: {st.mode(pokemons['HP'])}\")"
      ],
      "outputs": [
        {
          "output_type": "stream",
          "name": "stdout",
          "text": "POKEMONS - OPÇÃO 1 A MODA DE HP é: 60\nPOKEMONS - OPÇÃO 2 A MODA DE HP é: 60\n"
        }
      ],
      "execution_count": 33,
      "metadata": {
        "jupyter": {
          "source_hidden": false,
          "outputs_hidden": false
        },
        "nteract": {
          "transient": {
            "deleting": false
          }
        },
        "gather": {
          "logged": 1725107870347
        }
      }
    },
    {
      "cell_type": "code",
      "source": [
        "# Confirmando que HP 60 é o valor mais frequente\n",
        "plt.hist(pokemons['HP']) \n",
        "plt.xlabel('Valores - HP')\n",
        "plt.ylabel('Frequência(Contagem)')\n",
        "plt.title('Histograma')\n",
        "plt.grid(True)"
      ],
      "outputs": [
        {
          "output_type": "display_data",
          "data": {
            "text/plain": "<Figure size 640x480 with 1 Axes>",
            "image/png": "[encoded data removed]"
          },
          "metadata": {}
        }
      ],
      "execution_count": 35,
      "metadata": {
        "jupyter": {
          "source_hidden": false,
          "outputs_hidden": false
        },
        "nteract": {
          "transient": {
            "deleting": false
          }
        },
        "gather": {
          "logged": 1725107968702
        }
      }
    }
  ],
  "metadata": {
    "kernelspec": {
      "name": "python310-sdkv2",
      "language": "python",
      "display_name": "Python 3.10 - SDK v2"
    },
    "language_info": {
      "name": "python",
      "version": "3.10.14",
      "mimetype": "text/x-python",
      "codemirror_mode": {
        "name": "ipython",
        "version": 3
      },
      "pygments_lexer": "ipython3",
      "nbconvert_exporter": "python",
      "file_extension": ".py"
    },
    "kernel_info": {
      "name": "python310-sdkv2"
    },
    "nteract": {
      "version": "nteract-front-end@1.0.0"
    },
    "microsoft": {
      "host": {
        "AzureML": {
          "notebookHasBeenCompleted": true
        }
      }
    }
  },
  "nbformat": 4,
  "nbformat_minor": 2
}